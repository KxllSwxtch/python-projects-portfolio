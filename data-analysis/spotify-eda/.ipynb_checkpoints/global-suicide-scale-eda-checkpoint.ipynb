{
 "cells": [
  {
   "cell_type": "markdown",
   "id": "9da8289d",
   "metadata": {},
   "source": [
    "# Global Suicide Scale Exploratory Data Analysis"
   ]
  },
  {
   "cell_type": "markdown",
   "id": "e7e0a77e",
   "metadata": {},
   "source": [
    "<img \n",
    "     src='https://images.unsplash.com/photo-1514897575457-c4db467cf78e?ixlib=rb-4.0.3&ixid=MnwxMjA3fDB8MHxwaG90by1wYWdlfHx8fGVufDB8fHx8&auto=format&fit=crop&w=2940&q=80' \n",
    "     align='left' \n",
    "     style='border-radius: 5px;' \n",
    "/>"
   ]
  },
  {
   "cell_type": "markdown",
   "id": "aa3d76f4",
   "metadata": {},
   "source": [
    "Suicide is an extraordinarily complex phenomenon, associated with a range of demographic, biological, psycho-social, and clinical risk factors. Despite the number of risk factors, any given person's individual risk for suicide or suicide attempt is low. The complex nature of factors contributing to suicide and the relatively low population rate make interventions challenging. The complexity of suicide is reflected in the diversity of research aimed at understanding and preventing suicidal behaviors. For this review, we evaluated the evidence from RCTs of interventions aimed at reducing suicide and suicide attempts. We found articles reporting on a broad range of interventions from pharmacotherapy to psychotherapy and case management in patient populations of all ages. "
   ]
  },
  {
   "cell_type": "markdown",
   "id": "bcf17067",
   "metadata": {},
   "source": [
    "## Objectives"
   ]
  },
  {
   "cell_type": "markdown",
   "id": "c85143e8",
   "metadata": {},
   "source": [
    "The purpose of this project is to visualize the data about the suicide commitments."
   ]
  },
  {
   "cell_type": "markdown",
   "id": "4f7c5471",
   "metadata": {},
   "source": [
    "## Import libraries"
   ]
  },
  {
   "cell_type": "code",
   "execution_count": 3,
   "id": "0c3fee47",
   "metadata": {},
   "outputs": [],
   "source": [
    "import pandas as pd\n",
    "import seaborn as sns"
   ]
  },
  {
   "cell_type": "code",
   "execution_count": null,
   "id": "23952ace",
   "metadata": {},
   "outputs": [],
   "source": []
  }
 ],
 "metadata": {
  "kernelspec": {
   "display_name": "Python 3 (ipykernel)",
   "language": "python",
   "name": "python3"
  },
  "language_info": {
   "codemirror_mode": {
    "name": "ipython",
    "version": 3
   },
   "file_extension": ".py",
   "mimetype": "text/x-python",
   "name": "python",
   "nbconvert_exporter": "python",
   "pygments_lexer": "ipython3",
   "version": "3.9.12"
  }
 },
 "nbformat": 4,
 "nbformat_minor": 5
}
